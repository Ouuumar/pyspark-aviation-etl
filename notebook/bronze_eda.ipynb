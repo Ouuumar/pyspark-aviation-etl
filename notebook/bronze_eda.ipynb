{
 "cells": [
  {
   "cell_type": "markdown",
   "metadata": {},
   "source": [
    "##### API\"Links\":\"https://aviationstack.com/documentation\n",
    "##### \"Build\"Data\"lake\"from\"scratch\":\"https://towardsdatascience.com/how-to-build-a-data-lake-from-scratch-part-1-the-setup-34ea1665a06e"
   ]
  },
  {
   "cell_type": "code",
   "execution_count": 83,
   "metadata": {},
   "outputs": [],
   "source": [
    "from dotenv import load_dotenv\n",
    "import os\n",
    "import requests\n",
    "from pyspark.sql import SparkSession\n",
    "from pyspark.sql.functions import *\n",
    "import pandas as pd\n",
    "import logging\n",
    "from datetime import datetime\n",
    "import json\n",
    "from pyspark.sql.types import *"
   ]
  },
  {
   "cell_type": "code",
   "execution_count": 84,
   "metadata": {},
   "outputs": [
    {
     "data": {
      "text/plain": [
       "True"
      ]
     },
     "execution_count": 84,
     "metadata": {},
     "output_type": "execute_result"
    }
   ],
   "source": [
    "load_dotenv(\"../properties/.env\")"
   ]
  },
  {
   "cell_type": "code",
   "execution_count": 85,
   "metadata": {},
   "outputs": [],
   "source": [
    "logging.basicConfig(format=\"%(name)s - %(levelname)s - %(asctime)s - %(message)s\", level=logging.INFO)"
   ]
  },
  {
   "cell_type": "code",
   "execution_count": 86,
   "metadata": {},
   "outputs": [],
   "source": [
    "def request():\n",
    "    params = {\n",
    "    \"access_key\" : str(os.environ[\"API_KEY\"])\n",
    "}\n",
    "    raw_data = requests.get(\"http://api.aviationstack.com/v1/flights\", params=params).json()\n",
    "    return raw_data[\"data\"]"
   ]
  },
  {
   "cell_type": "code",
   "execution_count": 87,
   "metadata": {},
   "outputs": [],
   "source": [
    "def pandas(data):\n",
    "    pd.set_option(\"display.max_columns\", None)\n",
    "    df = pd.DataFrame.from_dict(pd.json_normalize(data))\n",
    "    return df.head(1)"
   ]
  },
  {
   "cell_type": "code",
   "execution_count": 88,
   "metadata": {},
   "outputs": [
    {
     "name": "stderr",
     "output_type": "stream",
     "text": [
      "23/11/27 16:24:27 WARN SparkSession: Using an existing Spark session; only runtime SQL configurations will take effect.\n"
     ]
    }
   ],
   "source": [
    "spark = SparkSession.builder.master(\"local[*]\").appName(\"flights-app\").config(\"spark.sql.warehouse.dir\", \"../data/spark-warehouse\").getOrCreate()"
   ]
  },
  {
   "cell_type": "code",
   "execution_count": 89,
   "metadata": {},
   "outputs": [],
   "source": [
    "location_schema = StructType([\n",
    "    StructField(\"airport\", StringType(), True),\n",
    "    StructField(\"timezone\", StringType(), True),\n",
    "    StructField(\"iata\", StringType(), True),\n",
    "    StructField(\"icao\", StringType(), True),\n",
    "    StructField(\"terminal\", StringType(), True),\n",
    "    StructField(\"gate\", StringType(), True),\n",
    "    StructField(\"delay\", IntegerType(), True),\n",
    "    StructField(\"scheduled\", TimestampType(), True),\n",
    "    StructField(\"estimated\", TimestampType(), True),\n",
    "    StructField(\"actual\", TimestampType(), True),\n",
    "    StructField(\"estimated_runway\", TimestampType(), True),\n",
    "    StructField(\"actual_runway\", TimestampType(), True),\n",
    "])\n",
    "\n",
    "# Define the schema for the airline section\n",
    "airline_schema = StructType([\n",
    "    StructField(\"name\", StringType(), True),\n",
    "    StructField(\"iata\", StringType(), True),\n",
    "    StructField(\"icao\", StringType(), True),\n",
    "])\n",
    "\n",
    "# Define the schema for the flight section\n",
    "flight_schema = StructType([\n",
    "    StructField(\"number\", StringType(), True),\n",
    "    StructField(\"iata\", StringType(), True),\n",
    "    StructField(\"icao\", StringType(), True),\n",
    "    StructField(\"codeshared\", StructType([\n",
    "        StructField(\"airline_name\", StringType(), True),\n",
    "        StructField(\"airline_iata\", StringType(), True),\n",
    "        StructField(\"airline_icao\", StringType(), True),\n",
    "        StructField(\"flight_number\", StringType(), True),\n",
    "        StructField(\"flight_iata\", StringType(), True),\n",
    "        StructField(\"flight_icao\", StringType(), True),\n",
    "    ]), True),\n",
    "])\n",
    "\n",
    "# Define the main schema for the entire JSON\n",
    "main_schema = StructType([\n",
    "    StructField(\"flight_date\", TimestampType(), True),\n",
    "    StructField(\"flight_status\", StringType(), True),\n",
    "    StructField(\"departure\", location_schema, True),\n",
    "    StructField(\"arrival\", location_schema, True),\n",
    "    StructField(\"airline\", airline_schema, True),\n",
    "    StructField(\"flight\", flight_schema, True),\n",
    "])\n"
   ]
  },
  {
   "cell_type": "code",
   "execution_count": 90,
   "metadata": {},
   "outputs": [],
   "source": [
    "def write_data(data):\n",
    "    with open(f'../data/bronze/{datetime.today().strftime(\"%Y-%m-%d\")}_data.json', 'w') as f:\n",
    "        return json.dump(data, f)"
   ]
  },
  {
   "cell_type": "code",
   "execution_count": 91,
   "metadata": {},
   "outputs": [
    {
     "name": "stdout",
     "output_type": "stream",
     "text": [
      "File not present...\n"
     ]
    }
   ],
   "source": [
    "if not os.path.isfile(f'../data/bronze/{datetime.today().strftime(\"%Y-%m-%d\")}_data.json'):\n",
    "    print(\"File not present...\")\n",
    "    data=request()\n",
    "    write_data(data)"
   ]
  },
  {
   "cell_type": "code",
   "execution_count": 92,
   "metadata": {},
   "outputs": [],
   "source": [
    "df = spark.read.option(\"multiline\", \"true\").json(f\"../data/bronze/{datetime.today().strftime('%Y-%m-%d')}_data.json\", schema=main_schema)\n",
    "# df = spark.read.option(\"multiline\", \"true\").json(\"../data/2023-11-25_data.json\", schema=main_schema)"
   ]
  },
  {
   "cell_type": "code",
   "execution_count": 93,
   "metadata": {},
   "outputs": [],
   "source": [
    "def arrange_schema(df):\n",
    "     return df.withColumn(\"dep_airport\",col(\"arrival.airport\"))\\\n",
    "                .withColumn(\"dep_timezone\",col(\"departure.timezone\"))\\\n",
    "                .withColumn(\"dep_iata\",col(\"departure.iata\"))\\\n",
    "                .withColumn(\"dep_icao\",col(\"departure.icao\"))\\\n",
    "                .withColumn(\"dep_terminal\",col(\"departure.terminal\"))\\\n",
    "                .withColumn(\"dep_gate\",col(\"departure.gate\"))\\\n",
    "                .withColumn(\"dep_delay\",col(\"departure.delay\"))\\\n",
    "                .withColumn(\"dep_scheduled\",col(\"departure.scheduled\"))\\\n",
    "                .withColumn(\"dep_estimated\",col(\"departure.estimated\"))\\\n",
    "                .withColumn(\"dep_actual\",col(\"departure.actual\"))\\\n",
    "                .withColumn(\"dep_estimated_runway\",col(\"departure.estimated_runway\"))\\\n",
    "                .withColumn(\"dep_actual_runway\",col(\"departure.actual_runway\"))\\\n",
    "                .withColumn(\"arr_timezone\",col(\"arrival.timezone\"))\\\n",
    "                .withColumn(\"arr_iata\",col(\"arrival.iata\"))\\\n",
    "                .withColumn(\"arr_icao\",col(\"arrival.icao\"))\\\n",
    "                .withColumn(\"arr_terminal\",col(\"arrival.terminal\"))\\\n",
    "                .withColumn(\"arr_gate\",col(\"arrival.gate\"))\\\n",
    "                .withColumn(\"arr_delay\",col(\"arrival.delay\"))\\\n",
    "                .withColumn(\"arr_scheduled\",col(\"arrival.scheduled\"))\\\n",
    "                .withColumn(\"arr_estimated\",col(\"arrival.estimated\"))\\\n",
    "                .withColumn(\"arr_actual\",col(\"arrival.actual\"))\\\n",
    "                .withColumn(\"arr_estimated_runway\",col(\"arrival.estimated_runway\"))\\\n",
    "                .withColumn(\"arr_actual_runway\",col(\"arrival.actual_runway\"))\\\n",
    "                .withColumn(\"airline_name\",col(\"airline.name\"))\\\n",
    "                .withColumn(\"airline_iata\",col(\"airline.iata\"))\\\n",
    "                .withColumn(\"airline_icao\",col(\"airline.icao\"))\\\n",
    "                .withColumn(\"flight_number\",col(\"flight.number\"))\\\n",
    "                .withColumn(\"flight_iata\",col(\"flight.iata\"))\\\n",
    "                .withColumn(\"flight_icao\",col(\"flight.icao\"))\\\n",
    "                .withColumn(\"codeshared_airline_name\",col(\"flight.codeshared.airline_name\"))\\\n",
    "                .withColumn(\"codeshared_airline_iata\",col(\"flight.codeshared.airline_iata\"))\\\n",
    "                .withColumn(\"codeshared_airline_icao\",col(\"flight.codeshared.airline_icao\"))\\\n",
    "                .withColumn(\"codeshared_flight_number\",col(\"flight.codeshared.flight_number\"))\\\n",
    "                .withColumn(\"codeshared_flight_iata\",col(\"flight.codeshared.flight_iata\"))\\\n",
    "                .withColumn(\"codeshared_flight_icao\",col(\"flight.codeshared.flight_icao\"))\\\n",
    "                .drop(\"departure\", \"arrival\", \"arrival\", \"flight\", \"airline\")"
   ]
  },
  {
   "cell_type": "code",
   "execution_count": 94,
   "metadata": {},
   "outputs": [],
   "source": [
    "df = arrange_schema(df)"
   ]
  },
  {
   "cell_type": "code",
   "execution_count": 95,
   "metadata": {},
   "outputs": [
    {
     "name": "stdout",
     "output_type": "stream",
     "text": [
      "+-------------------+-------------+--------------------+------------------+--------+--------+------------+--------+---------+-------------------+-------------------+----------+--------------------+-----------------+------------------+--------+--------+------------+--------+---------+-------------------+-------------------+----------+--------------------+-----------------+-------------------+------------+------------+-------------+-----------+-----------+-----------------------+-----------------------+-----------------------+------------------------+----------------------+----------------------+\n",
      "|        flight_date|flight_status|         dep_airport|      dep_timezone|dep_iata|dep_icao|dep_terminal|dep_gate|dep_delay|      dep_scheduled|      dep_estimated|dep_actual|dep_estimated_runway|dep_actual_runway|      arr_timezone|arr_iata|arr_icao|arr_terminal|arr_gate|arr_delay|      arr_scheduled|      arr_estimated|arr_actual|arr_estimated_runway|arr_actual_runway|       airline_name|airline_iata|airline_icao|flight_number|flight_iata|flight_icao|codeshared_airline_name|codeshared_airline_iata|codeshared_airline_icao|codeshared_flight_number|codeshared_flight_iata|codeshared_flight_icao|\n",
      "+-------------------+-------------+--------------------+------------------+--------+--------+------------+--------+---------+-------------------+-------------------+----------+--------------------+-----------------+------------------+--------+--------+------------+--------+---------+-------------------+-------------------+----------+--------------------+-----------------+-------------------+------------+------------+-------------+-----------+-----------+-----------------------+-----------------------+-----------------------+------------------------+----------------------+----------------------+\n",
      "|2023-11-29 00:00:00|    scheduled|        Edward River|Australia/Brisbane|     KWM|    YKOW|        NULL|    NULL|     NULL|2023-11-29 01:30:00|2023-11-29 01:30:00|      NULL|                NULL|             NULL|Australia/Brisbane|     EDR|    YPMP|           R|    NULL|     NULL|2023-11-27 10:45:00|2023-11-27 10:45:00|      NULL|                NULL|             NULL|Hinterland Aviation|          OI|         HND|          162|      OI162|     HND162|                   NULL|                   NULL|                   NULL|                    NULL|                  NULL|                  NULL|\n",
      "|2023-11-28 00:00:00|    scheduled|                NULL|     Asia/Shanghai|     KWE|    ZUGY|        NULL|    NULL|     NULL|2023-11-28 07:00:00|2023-11-28 07:00:00|      NULL|                NULL|             NULL|              NULL|     ACX|    ZUYI|        NULL|    NULL|     NULL|2023-11-28 08:10:00|2023-11-28 08:10:00|      NULL|                NULL|             NULL|           9 Air Co|          AQ|         JYH|         1421|     AQ1421|    JYH1421|                   NULL|                   NULL|                   NULL|                    NULL|                  NULL|                  NULL|\n",
      "|2023-11-28 00:00:00|    scheduled|     Flinders Island|  Australia/Hobart|     LST|    YMLT|        NULL|    NULL|     NULL|2023-11-28 09:00:00|2023-11-28 09:00:00|      NULL|                NULL|             NULL|  Australia/Hobart|     FLS|    YFLI|        NULL|    NULL|     NULL|2023-11-28 09:35:00|2023-11-28 09:35:00|      NULL|                NULL|             NULL|              empty|        NULL|        NULL|          801|       NULL|       NULL|                   NULL|                   NULL|                   NULL|                    NULL|                  NULL|                  NULL|\n",
      "|2023-11-28 00:00:00|    scheduled|Christchurch Inte...|  Pacific/Auckland|     AKL|    NZAA|           I|    NULL|     NULL|2023-11-28 05:10:00|2023-11-28 05:10:00|      NULL|                NULL|             NULL|  Pacific/Auckland|     CHC|    NZCH|           D|    NULL|     NULL|2023-11-28 06:25:00|2023-11-28 06:25:00|      NULL|                NULL|             NULL|             Qantas|          QF|         QFA|         7523|     QF7523|    QFA7523|                   NULL|                   NULL|                   NULL|                    NULL|                  NULL|                  NULL|\n",
      "|2023-11-28 00:00:00|       active|    Singapore Changi|    Pacific/Noumea|     NOU|    NWWW|        NULL|    NULL|     NULL|2023-11-28 02:05:00|2023-11-28 02:05:00|      NULL|                NULL|             NULL|    Asia/Singapore|     SIN|    WSSS|           3|    NULL|     NULL|2023-11-28 08:10:00|2023-11-28 08:10:00|      NULL|                NULL|             NULL|           Aircalin|          SB|         ACI|          740|      SB740|     ACI740|                   NULL|                   NULL|                   NULL|                    NULL|                  NULL|                  NULL|\n",
      "+-------------------+-------------+--------------------+------------------+--------+--------+------------+--------+---------+-------------------+-------------------+----------+--------------------+-----------------+------------------+--------+--------+------------+--------+---------+-------------------+-------------------+----------+--------------------+-----------------+-------------------+------------+------------+-------------+-----------+-----------+-----------------------+-----------------------+-----------------------+------------------------+----------------------+----------------------+\n",
      "only showing top 5 rows\n",
      "\n"
     ]
    }
   ],
   "source": [
    "df.show(5)"
   ]
  },
  {
   "cell_type": "code",
   "execution_count": 96,
   "metadata": {},
   "outputs": [
    {
     "name": "stdout",
     "output_type": "stream",
     "text": [
      "+-----------+-------------+-----------+------------+--------+--------+------------+--------+---------+-------------+-------------+----------+--------------------+-----------------+------------+--------+--------+------------+--------+---------+-------------+-------------+----------+--------------------+-----------------+------------+------------+------------+-------------+-----------+-----------+-----------------------+-----------------------+-----------------------+------------------------+----------------------+----------------------+\n",
      "|flight_date|flight_status|dep_airport|dep_timezone|dep_iata|dep_icao|dep_terminal|dep_gate|dep_delay|dep_scheduled|dep_estimated|dep_actual|dep_estimated_runway|dep_actual_runway|arr_timezone|arr_iata|arr_icao|arr_terminal|arr_gate|arr_delay|arr_scheduled|arr_estimated|arr_actual|arr_estimated_runway|arr_actual_runway|airline_name|airline_iata|airline_icao|flight_number|flight_iata|flight_icao|codeshared_airline_name|codeshared_airline_iata|codeshared_airline_icao|codeshared_flight_number|codeshared_flight_iata|codeshared_flight_icao|\n",
      "+-----------+-------------+-----------+------------+--------+--------+------------+--------+---------+-------------+-------------+----------+--------------------+-----------------+------------+--------+--------+------------+--------+---------+-------------+-------------+----------+--------------------+-----------------+------------+------------+------------+-------------+-----------+-----------+-----------------------+-----------------------+-----------------------+------------------------+----------------------+----------------------+\n",
      "|          0|            0|          2|           2|       0|       0|          44|      56|       78|            0|            0|        81|                  81|               81|           3|       0|       0|          32|      87|       84|            0|            0|        99|                  99|               99|           1|           4|           3|            2|          4|          3|                     58|                     58|                     58|                      58|                    58|                    58|\n",
      "+-----------+-------------+-----------+------------+--------+--------+------------+--------+---------+-------------+-------------+----------+--------------------+-----------------+------------+--------+--------+------------+--------+---------+-------------+-------------+----------+--------------------+-----------------+------------+------------+------------+-------------+-----------+-----------+-----------------------+-----------------------+-----------------------+------------------------+----------------------+----------------------+\n",
      "\n"
     ]
    }
   ],
   "source": [
    "df.select([count(when(col(c).isNull(), c)).alias(c) for c in df.columns]).show() "
   ]
  },
  {
   "cell_type": "code",
   "execution_count": 97,
   "metadata": {},
   "outputs": [
    {
     "data": {
      "text/plain": [
       "100"
      ]
     },
     "execution_count": 97,
     "metadata": {},
     "output_type": "execute_result"
    }
   ],
   "source": [
    "df.count()"
   ]
  },
  {
   "cell_type": "code",
   "execution_count": 98,
   "metadata": {},
   "outputs": [
    {
     "name": "stdout",
     "output_type": "stream",
     "text": [
      "+--------------+\n",
      "|min(dep_delay)|\n",
      "+--------------+\n",
      "|             4|\n",
      "+--------------+\n",
      "\n"
     ]
    }
   ],
   "source": [
    "df.select(min(\"dep_delay\")).show()"
   ]
  },
  {
   "cell_type": "code",
   "execution_count": 99,
   "metadata": {},
   "outputs": [
    {
     "name": "stdout",
     "output_type": "stream",
     "text": [
      "+------------+\n",
      "|dep_terminal|\n",
      "+------------+\n",
      "|           3|\n",
      "|           5|\n",
      "|           M|\n",
      "|           D|\n",
      "|           1|\n",
      "|           I|\n",
      "|           2|\n",
      "|        NULL|\n",
      "+------------+\n",
      "\n"
     ]
    }
   ],
   "source": [
    "df.select(\"dep_terminal\").distinct().show()"
   ]
  },
  {
   "cell_type": "code",
   "execution_count": 100,
   "metadata": {},
   "outputs": [
    {
     "data": {
      "text/plain": [
       "TimestampType()"
      ]
     },
     "execution_count": 100,
     "metadata": {},
     "output_type": "execute_result"
    }
   ],
   "source": [
    "df.schema[\"dep_estimated_runway\"].dataType"
   ]
  },
  {
   "cell_type": "code",
   "execution_count": 102,
   "metadata": {},
   "outputs": [],
   "source": [
    "def handle_nulls(df): # 0999-12-27 00:50:39 = Null value\n",
    "    df_no_nulls = df.fillna(\"Uknown\")\\\n",
    "        .fillna(0, subset=[\"dep_delay\", \"arr_delay\"])\\\n",
    "        .fillna(\"AZERTY\", subset=\"dep_terminal\")\n",
    "    \n",
    "    col_to_fill=[\"dep_estimated_runway\", \"dep_actual\", \"dep_actual_runway\", \"arr_actual_runway\", \"arr_estimated_runway\", \"arr_actual\"]\n",
    "\n",
    "    for colonne in col_to_fill:\n",
    "        df_no_nulls = df_no_nulls.withColumn(\n",
    "            colonne,\n",
    "            when(\n",
    "                col(colonne).isNull(),\n",
    "                datetime(1945, 1, 1, 0, 0, 0)\n",
    "            ).otherwise(col(colonne).cast(TimestampType()))\n",
    "        )\n",
    "        \n",
    "    return df_no_nulls"
   ]
  },
  {
   "cell_type": "code",
   "execution_count": 103,
   "metadata": {},
   "outputs": [],
   "source": [
    "df_no_nulls = handle_nulls(df)"
   ]
  },
  {
   "cell_type": "code",
   "execution_count": 104,
   "metadata": {},
   "outputs": [
    {
     "name": "stdout",
     "output_type": "stream",
     "text": [
      "+-----------+-------------+-----------+------------+--------+--------+------------+--------+---------+-------------+-------------+----------+--------------------+-----------------+------------+--------+--------+------------+--------+---------+-------------+-------------+----------+--------------------+-----------------+------------+------------+------------+-------------+-----------+-----------+-----------------------+-----------------------+-----------------------+------------------------+----------------------+----------------------+\n",
      "|flight_date|flight_status|dep_airport|dep_timezone|dep_iata|dep_icao|dep_terminal|dep_gate|dep_delay|dep_scheduled|dep_estimated|dep_actual|dep_estimated_runway|dep_actual_runway|arr_timezone|arr_iata|arr_icao|arr_terminal|arr_gate|arr_delay|arr_scheduled|arr_estimated|arr_actual|arr_estimated_runway|arr_actual_runway|airline_name|airline_iata|airline_icao|flight_number|flight_iata|flight_icao|codeshared_airline_name|codeshared_airline_iata|codeshared_airline_icao|codeshared_flight_number|codeshared_flight_iata|codeshared_flight_icao|\n",
      "+-----------+-------------+-----------+------------+--------+--------+------------+--------+---------+-------------+-------------+----------+--------------------+-----------------+------------+--------+--------+------------+--------+---------+-------------+-------------+----------+--------------------+-----------------+------------+------------+------------+-------------+-----------+-----------+-----------------------+-----------------------+-----------------------+------------------------+----------------------+----------------------+\n",
      "|          0|            0|          0|           0|       0|       0|           0|       0|        0|            0|            0|         0|                   0|                0|           0|       0|       0|           0|       0|        0|            0|            0|         0|                   0|                0|           0|           0|           0|            0|          0|          0|                      0|                      0|                      0|                       0|                     0|                     0|\n",
      "+-----------+-------------+-----------+------------+--------+--------+------------+--------+---------+-------------+-------------+----------+--------------------+-----------------+------------+--------+--------+------------+--------+---------+-------------+-------------+----------+--------------------+-----------------+------------+------------+------------+-------------+-----------+-----------+-----------------------+-----------------------+-----------------------+------------------------+----------------------+----------------------+\n",
      "\n"
     ]
    }
   ],
   "source": [
    "df_no_nulls.select([count(when(col(c).isNull(), c)).alias(c) for c in df.columns]).show() "
   ]
  },
  {
   "cell_type": "code",
   "execution_count": 106,
   "metadata": {},
   "outputs": [
    {
     "name": "stdout",
     "output_type": "stream",
     "text": [
      "root\n",
      " |-- flight_date: timestamp (nullable = true)\n",
      " |-- flight_status: string (nullable = false)\n",
      " |-- dep_airport: string (nullable = false)\n",
      " |-- dep_timezone: string (nullable = false)\n",
      " |-- dep_iata: string (nullable = false)\n",
      " |-- dep_icao: string (nullable = false)\n",
      " |-- dep_terminal: string (nullable = false)\n",
      " |-- dep_gate: string (nullable = false)\n",
      " |-- dep_delay: integer (nullable = true)\n",
      " |-- dep_scheduled: timestamp (nullable = true)\n",
      " |-- dep_estimated: timestamp (nullable = true)\n",
      " |-- dep_actual: timestamp (nullable = true)\n",
      " |-- dep_estimated_runway: timestamp (nullable = true)\n",
      " |-- dep_actual_runway: timestamp (nullable = true)\n",
      " |-- arr_timezone: string (nullable = false)\n",
      " |-- arr_iata: string (nullable = false)\n",
      " |-- arr_icao: string (nullable = false)\n",
      " |-- arr_terminal: string (nullable = false)\n",
      " |-- arr_gate: string (nullable = false)\n",
      " |-- arr_delay: integer (nullable = true)\n",
      " |-- arr_scheduled: timestamp (nullable = true)\n",
      " |-- arr_estimated: timestamp (nullable = true)\n",
      " |-- arr_actual: timestamp (nullable = true)\n",
      " |-- arr_estimated_runway: timestamp (nullable = true)\n",
      " |-- arr_actual_runway: timestamp (nullable = true)\n",
      " |-- airline_name: string (nullable = false)\n",
      " |-- airline_iata: string (nullable = false)\n",
      " |-- airline_icao: string (nullable = false)\n",
      " |-- flight_number: string (nullable = false)\n",
      " |-- flight_iata: string (nullable = false)\n",
      " |-- flight_icao: string (nullable = false)\n",
      " |-- codeshared_airline_name: string (nullable = false)\n",
      " |-- codeshared_airline_iata: string (nullable = false)\n",
      " |-- codeshared_airline_icao: string (nullable = false)\n",
      " |-- codeshared_flight_number: string (nullable = false)\n",
      " |-- codeshared_flight_iata: string (nullable = false)\n",
      " |-- codeshared_flight_icao: string (nullable = false)\n",
      "\n"
     ]
    }
   ],
   "source": [
    "df_no_nulls.printSchema()"
   ]
  },
  {
   "cell_type": "code",
   "execution_count": 107,
   "metadata": {},
   "outputs": [
    {
     "name": "stdout",
     "output_type": "stream",
     "text": [
      "+-------------------+-------------+--------------------+-------------------+--------+--------+------------+--------+---------+-------------------+-------------------+-------------------+--------------------+-------------------+-------------------+--------+--------+------------+--------+---------+-------------------+-------------------+-------------------+--------------------+-------------------+-------------------+------------+------------+-------------+-----------+-----------+-----------------------+-----------------------+-----------------------+------------------------+----------------------+----------------------+\n",
      "|        flight_date|flight_status|         dep_airport|       dep_timezone|dep_iata|dep_icao|dep_terminal|dep_gate|dep_delay|      dep_scheduled|      dep_estimated|         dep_actual|dep_estimated_runway|  dep_actual_runway|       arr_timezone|arr_iata|arr_icao|arr_terminal|arr_gate|arr_delay|      arr_scheduled|      arr_estimated|         arr_actual|arr_estimated_runway|  arr_actual_runway|       airline_name|airline_iata|airline_icao|flight_number|flight_iata|flight_icao|codeshared_airline_name|codeshared_airline_iata|codeshared_airline_icao|codeshared_flight_number|codeshared_flight_iata|codeshared_flight_icao|\n",
      "+-------------------+-------------+--------------------+-------------------+--------+--------+------------+--------+---------+-------------------+-------------------+-------------------+--------------------+-------------------+-------------------+--------+--------+------------+--------+---------+-------------------+-------------------+-------------------+--------------------+-------------------+-------------------+------------+------------+-------------+-----------+-----------+-----------------------+-----------------------+-----------------------+------------------------+----------------------+----------------------+\n",
      "|2023-11-29 00:00:00|    scheduled|        Edward River| Australia/Brisbane|     KWM|    YKOW|      Uknown|  Uknown|        0|2023-11-29 01:30:00|2023-11-29 01:30:00|1945-01-01 00:00:00| 1945-01-01 00:00:00|1945-01-01 00:00:00| Australia/Brisbane|     EDR|    YPMP|           R|  Uknown|        0|2023-11-27 10:45:00|2023-11-27 10:45:00|1945-01-01 00:00:00| 1945-01-01 00:00:00|1945-01-01 00:00:00|Hinterland Aviation|          OI|         HND|          162|      OI162|     HND162|                 Uknown|                 Uknown|                 Uknown|                  Uknown|                Uknown|                Uknown|\n",
      "|2023-11-28 00:00:00|    scheduled|              Uknown|      Asia/Shanghai|     KWE|    ZUGY|      Uknown|  Uknown|        0|2023-11-28 07:00:00|2023-11-28 07:00:00|1945-01-01 00:00:00| 1945-01-01 00:00:00|1945-01-01 00:00:00|             Uknown|     ACX|    ZUYI|      Uknown|  Uknown|        0|2023-11-28 08:10:00|2023-11-28 08:10:00|1945-01-01 00:00:00| 1945-01-01 00:00:00|1945-01-01 00:00:00|           9 Air Co|          AQ|         JYH|         1421|     AQ1421|    JYH1421|                 Uknown|                 Uknown|                 Uknown|                  Uknown|                Uknown|                Uknown|\n",
      "|2023-11-28 00:00:00|    scheduled|     Flinders Island|   Australia/Hobart|     LST|    YMLT|      Uknown|  Uknown|        0|2023-11-28 09:00:00|2023-11-28 09:00:00|1945-01-01 00:00:00| 1945-01-01 00:00:00|1945-01-01 00:00:00|   Australia/Hobart|     FLS|    YFLI|      Uknown|  Uknown|        0|2023-11-28 09:35:00|2023-11-28 09:35:00|1945-01-01 00:00:00| 1945-01-01 00:00:00|1945-01-01 00:00:00|              empty|      Uknown|      Uknown|          801|     Uknown|     Uknown|                 Uknown|                 Uknown|                 Uknown|                  Uknown|                Uknown|                Uknown|\n",
      "|2023-11-28 00:00:00|    scheduled|Christchurch Inte...|   Pacific/Auckland|     AKL|    NZAA|           I|  Uknown|        0|2023-11-28 05:10:00|2023-11-28 05:10:00|1945-01-01 00:00:00| 1945-01-01 00:00:00|1945-01-01 00:00:00|   Pacific/Auckland|     CHC|    NZCH|           D|  Uknown|        0|2023-11-28 06:25:00|2023-11-28 06:25:00|1945-01-01 00:00:00| 1945-01-01 00:00:00|1945-01-01 00:00:00|             Qantas|          QF|         QFA|         7523|     QF7523|    QFA7523|                 Uknown|                 Uknown|                 Uknown|                  Uknown|                Uknown|                Uknown|\n",
      "|2023-11-28 00:00:00|       active|    Singapore Changi|     Pacific/Noumea|     NOU|    NWWW|      Uknown|  Uknown|        0|2023-11-28 02:05:00|2023-11-28 02:05:00|1945-01-01 00:00:00| 1945-01-01 00:00:00|1945-01-01 00:00:00|     Asia/Singapore|     SIN|    WSSS|           3|  Uknown|        0|2023-11-28 08:10:00|2023-11-28 08:10:00|1945-01-01 00:00:00| 1945-01-01 00:00:00|1945-01-01 00:00:00|           Aircalin|          SB|         ACI|          740|      SB740|     ACI740|                 Uknown|                 Uknown|                 Uknown|                  Uknown|                Uknown|                Uknown|\n",
      "|2023-11-28 00:00:00|       active|    Singapore Changi|     Pacific/Noumea|     NOU|    NWWW|      Uknown|  Uknown|        0|2023-11-28 02:05:00|2023-11-28 02:05:00|1945-01-01 00:00:00| 1945-01-01 00:00:00|1945-01-01 00:00:00|     Asia/Singapore|     SIN|    WSSS|           3|  Uknown|        0|2023-11-28 08:10:00|2023-11-28 08:10:00|1945-01-01 00:00:00| 1945-01-01 00:00:00|1945-01-01 00:00:00|         Air France|          AF|         AFR|         4022|     AF4022|    AFR4022|               aircalin|                     sb|                    aci|                     740|                 sb740|                aci740|\n",
      "|2023-11-28 00:00:00|    scheduled|Brisbane Internat...|   Australia/Sydney|     SYD|    YSSY|      Uknown|  Uknown|        0|2023-11-28 02:05:00|2023-11-28 02:05:00|1945-01-01 00:00:00| 1945-01-01 00:00:00|1945-01-01 00:00:00| Australia/Brisbane|     BNE|    YBBN|      Uknown|  Uknown|        0|2023-11-28 02:35:00|2023-11-28 02:35:00|1945-01-01 00:00:00| 1945-01-01 00:00:00|1945-01-01 00:00:00|             Qantas|          QF|         QFA|         7420|     QF7420|    QFA7420|                 Uknown|                 Uknown|                 Uknown|                  Uknown|                Uknown|                Uknown|\n",
      "|2023-11-28 00:00:00|    scheduled|Melbourne - Tulla...|   Australia/Sydney|     SYD|    YSSY|      Uknown|  Uknown|        0|2023-11-28 01:45:00|2023-11-28 01:45:00|1945-01-01 00:00:00| 1945-01-01 00:00:00|1945-01-01 00:00:00|Australia/Melbourne|     MEL|    YMML|           4|  Uknown|        0|2023-11-28 03:20:00|2023-11-28 03:20:00|1945-01-01 00:00:00| 1945-01-01 00:00:00|1945-01-01 00:00:00|             Qantas|          QF|         QFA|         7405|     QF7405|    QFA7405|                 Uknown|                 Uknown|                 Uknown|                  Uknown|                Uknown|                Uknown|\n",
      "|2023-11-28 00:00:00|    scheduled|Melbourne - Tulla...|   Australia/Sydney|     SYD|    YSSY|      Uknown|  Uknown|        0|2023-11-28 01:25:00|2023-11-28 01:25:00|1945-01-01 00:00:00| 1945-01-01 00:00:00|1945-01-01 00:00:00|Australia/Melbourne|     MEL|    YMML|           4|  Uknown|        0|2023-11-28 03:00:00|2023-11-28 03:00:00|1945-01-01 00:00:00| 1945-01-01 00:00:00|1945-01-01 00:00:00|             Qantas|          QF|         QFA|         7445|     QF7445|    QFA7445|                 Uknown|                 Uknown|                 Uknown|                  Uknown|                Uknown|                Uknown|\n",
      "|2023-11-28 00:00:00|       active|Suvarnabhumi Inte...|         Asia/Tokyo|     HND|    RJTT|           3|     112|        0|2023-11-28 01:10:00|2023-11-28 01:10:00|1945-01-01 00:00:00| 1945-01-01 00:00:00|1945-01-01 00:00:00|       Asia/Bangkok|     BKK|    VTBS|      Uknown|  Uknown|        0|2023-11-28 06:05:00|2023-11-28 06:05:00|1945-01-01 00:00:00| 1945-01-01 00:00:00|1945-01-01 00:00:00|                JAL|          JL|         JAL|           33|       JL33|      JAL33|                 Uknown|                 Uknown|                 Uknown|                  Uknown|                Uknown|                Uknown|\n",
      "|2023-11-28 00:00:00|    scheduled|Shanghai Pudong I...|         Asia/Seoul|     ICN|    RKSI|           1|  Uknown|        0|2023-11-28 01:50:00|2023-11-28 01:50:00|1945-01-01 00:00:00| 1945-01-01 00:00:00|1945-01-01 00:00:00|      Asia/Shanghai|     PVG|    ZSPD|           1|  Uknown|        0|2023-11-28 03:05:00|2023-11-28 03:05:00|1945-01-01 00:00:00| 1945-01-01 00:00:00|1945-01-01 00:00:00|    Asiana Airlines|          OZ|         AAR|          987|      OZ987|     AAR987|                 Uknown|                 Uknown|                 Uknown|                  Uknown|                Uknown|                Uknown|\n",
      "|2023-11-28 00:00:00|    scheduled|Guangzhou Baiyun ...|             Uknown|     NTG|    ZSNT|      Uknown|  Uknown|        0|2023-11-28 04:15:00|2023-11-28 04:15:00|1945-01-01 00:00:00| 1945-01-01 00:00:00|1945-01-01 00:00:00|      Asia/Shanghai|     CAN|    ZGGG|      Uknown|  Uknown|        0|2023-11-28 06:55:00|2023-11-28 06:55:00|1945-01-01 00:00:00| 1945-01-01 00:00:00|1945-01-01 00:00:00|        SF Airlines|          O3|         CSS|         7364|     O37364|    CSS7364|                 Uknown|                 Uknown|                 Uknown|                  Uknown|                Uknown|                Uknown|\n",
      "|2023-11-28 00:00:00|    scheduled|           Zhengzhou|             Uknown|     NTG|    ZSNT|      Uknown|  Uknown|        0|2023-11-28 05:00:00|2023-11-28 05:00:00|1945-01-01 00:00:00| 1945-01-01 00:00:00|1945-01-01 00:00:00|      Asia/Shanghai|     CGO|    ZHCC|           2|  Uknown|        0|2023-11-28 06:35:00|2023-11-28 06:35:00|1945-01-01 00:00:00| 1945-01-01 00:00:00|1945-01-01 00:00:00|   Longhao Airlines|          GI|         LHA|         4030|     GI4030|    LHA4030|                 Uknown|                 Uknown|                 Uknown|                  Uknown|                Uknown|                Uknown|\n",
      "|2023-11-28 00:00:00|    scheduled|Narita Internatio...|     Asia/Hong_Kong|     HKG|    VHHH|      Uknown|  Uknown|        0|2023-11-28 02:15:00|2023-11-28 02:15:00|1945-01-01 00:00:00| 1945-01-01 00:00:00|1945-01-01 00:00:00|         Asia/Tokyo|     NRT|    RJAA|      Uknown|  Uknown|        0|2023-11-28 07:15:00|2023-11-28 07:15:00|1945-01-01 00:00:00| 1945-01-01 00:00:00|1945-01-01 00:00:00|     Cathay Pacific|          CX|         CPA|            6|        CX6|       CPA6|                 Uknown|                 Uknown|                 Uknown|                  Uknown|                Uknown|                Uknown|\n",
      "|2023-11-28 00:00:00|       active|           Moorabbin|Australia/Melbourne|     MEL|    YMML|      Uknown|  Uknown|       27|2023-11-28 01:00:00|2023-11-28 01:00:00|2023-11-28 01:27:00| 2023-11-28 01:27:00|2023-11-28 01:27:00|Australia/Melbourne|     MBW|    YMMB|      Uknown|  Uknown|       20|2023-11-28 01:30:00|2023-11-28 01:30:00|1945-01-01 00:00:00| 1945-01-01 00:00:00|1945-01-01 00:00:00|              empty|      Uknown|      Uknown|       Uknown|     Uknown|     Uknown|                 Uknown|                 Uknown|                 Uknown|                  Uknown|                Uknown|                Uknown|\n",
      "|2023-11-28 00:00:00|    scheduled|     Seoul (Incheon)|        Asia/Almaty|     ALA|    UAAA|      Uknown|  Uknown|        0|2023-11-28 02:15:00|2023-11-28 02:15:00|1945-01-01 00:00:00| 1945-01-01 00:00:00|1945-01-01 00:00:00|         Asia/Seoul|     ICN|    RKSI|           1|  Uknown|        0|2023-11-28 10:55:00|2023-11-28 10:55:00|1945-01-01 00:00:00| 1945-01-01 00:00:00|1945-01-01 00:00:00|    Asiana Airlines|          OZ|         AAR|         6962|     OZ6962|    AAR6962|             air astana|                     kc|                    kzr|                     909|                 kc909|                kzr909|\n",
      "|2023-11-28 00:00:00|    scheduled|           Whakatane|   Pacific/Auckland|     AKL|    NZAA|           D|      50|        0|2023-11-28 09:00:00|2023-11-28 09:00:00|1945-01-01 00:00:00| 1945-01-01 00:00:00|1945-01-01 00:00:00|   Pacific/Auckland|     WHK|    NZWK|      Uknown|  Uknown|        0|2023-11-28 09:40:00|2023-11-28 09:40:00|1945-01-01 00:00:00| 1945-01-01 00:00:00|1945-01-01 00:00:00|       Air Chathams|          CV|         CVA|          820|      CV820|     CVA820|                 Uknown|                 Uknown|                 Uknown|                  Uknown|                Uknown|                Uknown|\n",
      "|2023-11-28 00:00:00|    scheduled|            Gisborne|   Pacific/Auckland|     AKL|    NZAA|           D|      46|        0|2023-11-28 09:25:00|2023-11-28 09:25:00|1945-01-01 00:00:00| 1945-01-01 00:00:00|1945-01-01 00:00:00|   Pacific/Auckland|     GIS|    NZGS|           D|  Uknown|        0|2023-11-28 10:30:00|2023-11-28 10:30:00|1945-01-01 00:00:00| 1945-01-01 00:00:00|1945-01-01 00:00:00| Singapore Airlines|          SQ|         SIA|         4383|     SQ4383|    SIA4383|        air new zealand|                     nz|                    anz|                    8163|                nz8163|               anz8163|\n",
      "|2023-11-28 00:00:00|    scheduled|            Gisborne|   Pacific/Auckland|     AKL|    NZAA|           D|      46|        0|2023-11-28 09:25:00|2023-11-28 09:25:00|1945-01-01 00:00:00| 1945-01-01 00:00:00|1945-01-01 00:00:00|   Pacific/Auckland|     GIS|    NZGS|           D|  Uknown|        0|2023-11-28 10:30:00|2023-11-28 10:30:00|1945-01-01 00:00:00| 1945-01-01 00:00:00|1945-01-01 00:00:00|             Qantas|          QF|         QFA|         8491|     QF8491|    QFA8491|        air new zealand|                     nz|                    anz|                    8163|                nz8163|               anz8163|\n",
      "|2023-11-28 00:00:00|    scheduled|            Gisborne|   Pacific/Auckland|     AKL|    NZAA|           D|      46|        0|2023-11-28 09:25:00|2023-11-28 09:25:00|1945-01-01 00:00:00| 1945-01-01 00:00:00|1945-01-01 00:00:00|   Pacific/Auckland|     GIS|    NZGS|           D|  Uknown|        0|2023-11-28 10:30:00|2023-11-28 10:30:00|1945-01-01 00:00:00| 1945-01-01 00:00:00|1945-01-01 00:00:00|      Air China LTD|          CA|         CCA|         5904|     CA5904|    CCA5904|        air new zealand|                     nz|                    anz|                    8163|                nz8163|               anz8163|\n",
      "+-------------------+-------------+--------------------+-------------------+--------+--------+------------+--------+---------+-------------------+-------------------+-------------------+--------------------+-------------------+-------------------+--------+--------+------------+--------+---------+-------------------+-------------------+-------------------+--------------------+-------------------+-------------------+------------+------------+-------------+-----------+-----------+-----------------------+-----------------------+-----------------------+------------------------+----------------------+----------------------+\n",
      "only showing top 20 rows\n",
      "\n"
     ]
    }
   ],
   "source": [
    "df_no_nulls.show()"
   ]
  }
 ],
 "metadata": {
  "kernelspec": {
   "display_name": "venv",
   "language": "python",
   "name": "python3"
  },
  "language_info": {
   "codemirror_mode": {
    "name": "ipython",
    "version": 3
   },
   "file_extension": ".py",
   "mimetype": "text/x-python",
   "name": "python",
   "nbconvert_exporter": "python",
   "pygments_lexer": "ipython3",
   "version": "3.10.12"
  }
 },
 "nbformat": 4,
 "nbformat_minor": 2
}
