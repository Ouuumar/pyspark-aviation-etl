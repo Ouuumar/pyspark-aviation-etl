{
 "cells": [
  {
   "cell_type": "markdown",
   "metadata": {},
   "source": [
    "##### API\"Links\":\"https://aviationstack.com/documentation\n",
    "##### \"Build\"Data\"lake\"from\"scratch\":\"https://towardsdatascience.com/how-to-build-a-data-lake-from-scratch-part-1-the-setup-34ea1665a06e"
   ]
  },
  {
   "cell_type": "code",
   "execution_count": 1,
   "metadata": {},
   "outputs": [],
   "source": [
    "from dotenv import load_dotenv\n",
    "from pyspark.sql import SparkSession\n",
    "from pyspark.sql.functions import *\n",
    "import logging\n",
    "from pyspark.sql.types import *"
   ]
  },
  {
   "cell_type": "code",
   "execution_count": 2,
   "metadata": {},
   "outputs": [
    {
     "data": {
      "text/plain": [
       "True"
      ]
     },
     "execution_count": 2,
     "metadata": {},
     "output_type": "execute_result"
    }
   ],
   "source": [
    "load_dotenv(\"../properties/.env\")"
   ]
  },
  {
   "cell_type": "code",
   "execution_count": 3,
   "metadata": {},
   "outputs": [],
   "source": [
    "logging.basicConfig(format=\"%(name)s - %(levelname)s - %(asctime)s - %(message)s\", level=logging.INFO)"
   ]
  },
  {
   "cell_type": "code",
   "execution_count": 4,
   "metadata": {},
   "outputs": [
    {
     "name": "stderr",
     "output_type": "stream",
     "text": [
      "your 131072x1 screen size is bogus. expect trouble\n",
      "23/11/27 16:28:55 WARN Utils: Your hostname, MSIpowaaa resolves to a loopback address: 127.0.1.1; using 172.25.165.28 instead (on interface eth0)\n",
      "23/11/27 16:28:55 WARN Utils: Set SPARK_LOCAL_IP if you need to bind to another address\n",
      "Setting default log level to \"WARN\".\n",
      "To adjust logging level use sc.setLogLevel(newLevel). For SparkR, use setLogLevel(newLevel).\n",
      "23/11/27 16:28:57 WARN NativeCodeLoader: Unable to load native-hadoop library for your platform... using builtin-java classes where applicable\n"
     ]
    }
   ],
   "source": [
    "spark = SparkSession.builder.master(\"local[*]\").appName(\"flights-app\").config(\"spark.sql.warehouse.dir\", \"../data/spark-warehouse\").getOrCreate()"
   ]
  },
  {
   "cell_type": "code",
   "execution_count": 5,
   "metadata": {},
   "outputs": [
    {
     "name": "stderr",
     "output_type": "stream",
     "text": [
      "                                                                                \r"
     ]
    }
   ],
   "source": [
    "df = spark.read.parquet(f\"../data/silver/2023-11-26_data.parquet\")"
   ]
  },
  {
   "cell_type": "code",
   "execution_count": 6,
   "metadata": {},
   "outputs": [
    {
     "name": "stderr",
     "output_type": "stream",
     "text": [
      "23/11/27 16:29:03 WARN SparkStringUtils: Truncated the string representation of a plan since it was too large. This behavior can be adjusted by setting 'spark.sql.debug.maxToStringFields'.\n",
      "                                                                                \r"
     ]
    },
    {
     "name": "stdout",
     "output_type": "stream",
     "text": [
      "+-------------------+-------------+--------------------+------------------+--------+--------+------------+--------+---------+-------------------+-------------------+-------------------+--------------------+-------------------+------------------+--------+--------+------------+--------+---------+-------------------+-------------------+-------------------+--------------------+-------------------+--------------------+------------+------------+-------------+-----------+-----------+-----------------------+-----------------------+-----------------------+------------------------+----------------------+----------------------+\n",
      "|        flight_date|flight_status|         dep_airport|      dep_timezone|dep_iata|dep_icao|dep_terminal|dep_gate|dep_delay|      dep_scheduled|      dep_estimated|         dep_actual|dep_estimated_runway|  dep_actual_runway|      arr_timezone|arr_iata|arr_icao|arr_terminal|arr_gate|arr_delay|      arr_scheduled|      arr_estimated|         arr_actual|arr_estimated_runway|  arr_actual_runway|        airline_name|airline_iata|airline_icao|flight_number|flight_iata|flight_icao|codeshared_airline_name|codeshared_airline_iata|codeshared_airline_icao|codeshared_flight_number|codeshared_flight_iata|codeshared_flight_icao|\n",
      "+-------------------+-------------+--------------------+------------------+--------+--------+------------+--------+---------+-------------------+-------------------+-------------------+--------------------+-------------------+------------------+--------+--------+------------+--------+---------+-------------------+-------------------+-------------------+--------------------+-------------------+--------------------+------------+------------+-------------+-----------+-----------+-----------------------+-----------------------+-----------------------+------------------------+----------------------+----------------------+\n",
      "|2023-11-27 00:00:00|       landed|           Gladstone|Australia/Brisbane|     GLT|    YGLA|      Uknown|  Uknown|        0|2023-11-27 02:25:00|2023-11-27 02:25:00|2023-11-27 02:25:00| 2023-11-27 02:25:00|2023-11-27 02:25:00|Australia/Brisbane|     GLT|    YGLA|      Uknown|  Uknown|        0|2023-11-27 03:05:00|2023-11-27 03:05:00|2023-11-27 02:58:00| 2023-11-27 02:58:00|2023-11-27 02:58:00|               empty|      Uknown|      Uknown|       Uknown|     Uknown|     Uknown|                 Uknown|                 Uknown|                 Uknown|                  Uknown|                Uknown|                Uknown|\n",
      "|2023-11-27 00:00:00|    scheduled|Kuala Lumpur Inte...|    Asia/Singapore|     SIN|    WSSS|           2|  Uknown|        0|2023-11-27 07:00:00|2023-11-27 07:00:00|             Uknown|              Uknown|             Uknown| Asia/Kuala_Lumpur|     KUL|    WMKK|           1|  Uknown|        0|2023-11-27 08:10:00|2023-11-27 08:10:00|             Uknown|              Uknown|             Uknown|   Malaysia Airlines|          MH|         MAS|          602|      MH602|     MAS602|                 Uknown|                 Uknown|                 Uknown|                  Uknown|                Uknown|                Uknown|\n",
      "|2023-11-27 00:00:00|    scheduled|              Haikou|    Asia/Singapore|     SIN|    WSSS|           4|       7|        0|2023-11-27 08:30:00|2023-11-27 08:30:00|             Uknown|              Uknown|             Uknown|     Asia/Shanghai|     HAK|    ZJHK|           2|  Uknown|        0|2023-11-27 12:10:00|2023-11-27 12:10:00|             Uknown|              Uknown|             Uknown|        Jetstar Asia|          3K|         JSA|          817|      3K817|     JSA817|                 Uknown|                 Uknown|                 Uknown|                  Uknown|                Uknown|                Uknown|\n",
      "|2023-11-27 00:00:00|    scheduled|             Guiyang|            Uknown|     ACX|    ZUYI|      Uknown|  Uknown|        0|2023-11-27 04:55:00|2023-11-27 04:55:00|             Uknown|              Uknown|             Uknown|     Asia/Shanghai|     KWE|    ZUGY|          T2|  Uknown|        0|2023-11-27 05:55:00|2023-11-27 05:55:00|             Uknown|              Uknown|             Uknown|            9 Air Co|          AQ|         JYH|         1422|     AQ1422|    JYH1422|                 Uknown|                 Uknown|                 Uknown|                  Uknown|                Uknown|                Uknown|\n",
      "|2023-11-27 00:00:00|    scheduled|Kuwait International|     Asia/Tashkent|     TAS|    UTTT|      Uknown|  Uknown|        0|2023-11-27 03:00:00|2023-11-27 03:00:00|             Uknown|              Uknown|             Uknown|       Asia/Kuwait|     KWI|    OKKK|           5|  Uknown|        0|2023-11-27 04:55:00|2023-11-27 04:55:00|             Uknown|              Uknown|             Uknown|     Jazeera Airways|          J9|         JZR|          650|      J9650|     JZR650|                 Uknown|                 Uknown|                 Uknown|                  Uknown|                Uknown|                Uknown|\n",
      "|2023-11-27 00:00:00|    scheduled|Heydar Aliyev Int...|     Asia/Tashkent|     TAS|    UTTT|           1|  Uknown|        0|2023-11-27 03:00:00|2023-11-27 03:00:00|             Uknown|              Uknown|             Uknown|         Asia/Baku|     GYD|    UBBB|           1|  Uknown|        0|2023-11-27 04:50:00|2023-11-27 04:50:00|             Uknown|              Uknown|             Uknown|AZAL Azerbaijan A...|          J2|         AHY|         5032|     J25032|    AHY5032|                 Uknown|                 Uknown|                 Uknown|                  Uknown|                Uknown|                Uknown|\n",
      "|2023-11-27 00:00:00|    scheduled|    Istanbul Airport|     Asia/Tashkent|     TAS|    UTTT|           2|  Uknown|        0|2023-11-27 02:10:00|2023-11-27 02:10:00|             Uknown|              Uknown|             Uknown|   Europe/Istanbul|     IST|    LTFM|      Uknown|  Uknown|        0|2023-11-27 05:30:00|2023-11-27 05:30:00|             Uknown|              Uknown|             Uknown|  Uzbekistan Airways|          HY|         UZB|          281|      HY281|     UZB281|                 Uknown|                 Uknown|                 Uknown|                  Uknown|                Uknown|                Uknown|\n",
      "|2023-11-27 00:00:00|    scheduled|    Istanbul Airport|     Asia/Tashkent|     TAS|    UTTT|           2|  Uknown|        0|2023-11-27 02:10:00|2023-11-27 02:10:00|             Uknown|              Uknown|             Uknown|   Europe/Istanbul|     IST|    LTFM|      Uknown|  Uknown|        0|2023-11-27 05:30:00|2023-11-27 05:30:00|             Uknown|              Uknown|             Uknown|    Turkish Airlines|          TK|         THY|         8572|     TK8572|    THY8572|     uzbekistan airways|                     hy|                    uzb|                     281|                 hy281|                uzb281|\n",
      "|2023-11-27 00:00:00|    scheduled|Gold Coast (coola...|  Australia/Sydney|     SYD|    YSSY|           2|     A59|        0|2023-11-27 10:15:00|2023-11-27 10:15:00|             Uknown|              Uknown|             Uknown|Australia/Brisbane|     OOL|    YBCG|           1|      14|        0|2023-11-27 10:40:00|2023-11-27 10:40:00|             Uknown|              Uknown|             Uknown|             Jetstar|          JQ|         JST|          406|      JQ406|     JST406|                 Uknown|                 Uknown|                 Uknown|                  Uknown|                Uknown|                Uknown|\n",
      "|2023-11-27 00:00:00|    scheduled|              Sendai|        Asia/Tokyo|     CTS|    RJCC|           D|      15|        0|2023-11-27 08:50:00|2023-11-27 08:50:00|             Uknown|              Uknown|             Uknown|        Asia/Tokyo|     SDJ|    RJSS|          10|  Uknown|        0|2023-11-27 10:01:00|2023-11-27 10:01:00|             Uknown|              Uknown|             Uknown|   Jet Linx Aviation|          JL|         JTL|         2900|     JL2900|    JTL2900|                 Uknown|                 Uknown|                 Uknown|                  Uknown|                Uknown|                Uknown|\n",
      "|2023-11-27 00:00:00|    scheduled|            Yinchuan|     Asia/Shanghai|     URC|    ZWWW|           2|  Uknown|        0|2023-11-27 08:45:00|2023-11-27 08:45:00|             Uknown|              Uknown|             Uknown|     Asia/Shanghai|     INC|    ZLIC|          T3|  Uknown|        0|2023-11-27 11:45:00|2023-11-27 11:45:00|             Uknown|              Uknown|             Uknown|China Southern Ai...|          CZ|         CSN|         4786|     CZ4786|    CSN4786|              loong air|                     gj|                    cdc|                    8651|                gj8651|               cdc8651|\n",
      "|2023-11-27 00:00:00|    scheduled|            Yinchuan|     Asia/Shanghai|     URC|    ZWWW|           2|  Uknown|        0|2023-11-27 08:45:00|2023-11-27 08:45:00|             Uknown|              Uknown|             Uknown|     Asia/Shanghai|     INC|    ZLIC|          T3|  Uknown|        0|2023-11-27 11:45:00|2023-11-27 11:45:00|             Uknown|              Uknown|             Uknown|    Sichuan Airlines|          3U|         CSC|         4093|     3U4093|    CSC4093|              loong air|                     gj|                    cdc|                    8651|                gj8651|               cdc8651|\n",
      "|2023-11-27 00:00:00|    scheduled|            Yinchuan|     Asia/Shanghai|     URC|    ZWWW|           2|  Uknown|        0|2023-11-27 08:45:00|2023-11-27 08:45:00|             Uknown|              Uknown|             Uknown|     Asia/Shanghai|     INC|    ZLIC|          T3|  Uknown|        0|2023-11-27 11:45:00|2023-11-27 11:45:00|             Uknown|              Uknown|             Uknown|China Eastern Air...|          MU|         CES|         4353|     MU4353|    CES4353|              loong air|                     gj|                    cdc|                    8651|                gj8651|               cdc8651|\n",
      "|2023-11-27 00:00:00|    scheduled|            Yinchuan|     Asia/Shanghai|     URC|    ZWWW|           2|  Uknown|        0|2023-11-27 08:45:00|2023-11-27 08:45:00|             Uknown|              Uknown|             Uknown|     Asia/Shanghai|     INC|    ZLIC|          T3|  Uknown|        0|2023-11-27 11:45:00|2023-11-27 11:45:00|             Uknown|              Uknown|             Uknown|     Hainan Airlines|          HU|         CHH|         2651|     HU2651|    CHH2651|              loong air|                     gj|                    cdc|                    8651|                gj8651|               cdc8651|\n",
      "|2023-11-27 00:00:00|    scheduled|            Yinchuan|     Asia/Shanghai|     URC|    ZWWW|           2|  Uknown|        0|2023-11-27 08:45:00|2023-11-27 08:45:00|             Uknown|              Uknown|             Uknown|     Asia/Shanghai|     INC|    ZLIC|          T3|  Uknown|        0|2023-11-27 11:45:00|2023-11-27 11:45:00|             Uknown|              Uknown|             Uknown|     Xiamen Airlines|          MF|         CXA|         5845|     MF5845|    CXA5845|              loong air|                     gj|                    cdc|                    8651|                gj8651|               cdc8651|\n",
      "|2023-11-27 00:00:00|    scheduled|              Yining|     Asia/Shanghai|     URC|    ZWWW|           3|  Uknown|        2|2023-11-27 08:45:00|2023-11-27 08:45:00|             Uknown|              Uknown|             Uknown|     Asia/Shanghai|     YIN|    ZWYN|      Uknown|  Uknown|        0|2023-11-27 10:00:00|2023-11-27 10:00:00|             Uknown|              Uknown|             Uknown|China Southern Ai...|          CZ|         CSN|         6821|     CZ6821|    CSN6821|                 Uknown|                 Uknown|                 Uknown|                  Uknown|                Uknown|                Uknown|\n",
      "|2023-11-27 00:00:00|    scheduled|         Rockhampton|Australia/Brisbane|     BNE|    YBBN|           D|       6|        0|2023-11-27 08:15:00|2023-11-27 08:15:00|             Uknown|              Uknown|             Uknown|Australia/Brisbane|     ROK|    YBRK|      Uknown|  Uknown|        0|2023-11-27 09:35:00|2023-11-27 09:35:00|             Uknown|              Uknown|             Uknown|      Cathay Pacific|          CX|         CPA|         9038|     CX9038|    CPA9038|                 qantas|                     qf|                    qfa|                    2364|                qf2364|               qfa2364|\n",
      "|2023-11-27 00:00:00|    scheduled|         Rockhampton|Australia/Brisbane|     BNE|    YBBN|           D|       6|        0|2023-11-27 08:15:00|2023-11-27 08:15:00|             Uknown|              Uknown|             Uknown|Australia/Brisbane|     ROK|    YBRK|      Uknown|  Uknown|        0|2023-11-27 09:35:00|2023-11-27 09:35:00|             Uknown|              Uknown|             Uknown|     Air New Zealand|          NZ|         ANZ|         7567|     NZ7567|    ANZ7567|                 qantas|                     qf|                    qfa|                    2364|                qf2364|               qfa2364|\n",
      "|2023-11-27 00:00:00|    scheduled|         Rockhampton|Australia/Brisbane|     BNE|    YBBN|           D|       6|        0|2023-11-27 08:15:00|2023-11-27 08:15:00|             Uknown|              Uknown|             Uknown|Australia/Brisbane|     ROK|    YBRK|      Uknown|  Uknown|        0|2023-11-27 09:35:00|2023-11-27 09:35:00|             Uknown|              Uknown|             Uknown|            Emirates|          EK|         UAE|         5201|     EK5201|    UAE5201|                 qantas|                     qf|                    qfa|                    2364|                qf2364|               qfa2364|\n",
      "|2023-11-27 00:00:00|    scheduled|Brisbane Internat...|Australia/Brisbane|     ROK|    YBRK|      Uknown|  Uknown|        0|2023-11-27 10:00:00|2023-11-27 10:00:00|             Uknown|              Uknown|             Uknown|Australia/Brisbane|     BNE|    YBBN|           D|  Uknown|        0|2023-11-27 11:20:00|2023-11-27 11:20:00|             Uknown|              Uknown|             Uknown|              Qantas|          QF|         QFA|         2365|     QF2365|    QFA2365|                 Uknown|                 Uknown|                 Uknown|                  Uknown|                Uknown|                Uknown|\n",
      "+-------------------+-------------+--------------------+------------------+--------+--------+------------+--------+---------+-------------------+-------------------+-------------------+--------------------+-------------------+------------------+--------+--------+------------+--------+---------+-------------------+-------------------+-------------------+--------------------+-------------------+--------------------+------------+------------+-------------+-----------+-----------+-----------------------+-----------------------+-----------------------+------------------------+----------------------+----------------------+\n",
      "only showing top 20 rows\n",
      "\n"
     ]
    }
   ],
   "source": [
    "df.show()"
   ]
  },
  {
   "cell_type": "code",
   "execution_count": 7,
   "metadata": {},
   "outputs": [
    {
     "name": "stdout",
     "output_type": "stream",
     "text": [
      "+-----------+-------------+-----------+------------+--------+--------+------------+--------+---------+-------------+-------------+----------+--------------------+-----------------+------------+--------+--------+------------+--------+---------+-------------+-------------+----------+--------------------+-----------------+------------+------------+------------+-------------+-----------+-----------+-----------------------+-----------------------+-----------------------+------------------------+----------------------+----------------------+\n",
      "|flight_date|flight_status|dep_airport|dep_timezone|dep_iata|dep_icao|dep_terminal|dep_gate|dep_delay|dep_scheduled|dep_estimated|dep_actual|dep_estimated_runway|dep_actual_runway|arr_timezone|arr_iata|arr_icao|arr_terminal|arr_gate|arr_delay|arr_scheduled|arr_estimated|arr_actual|arr_estimated_runway|arr_actual_runway|airline_name|airline_iata|airline_icao|flight_number|flight_iata|flight_icao|codeshared_airline_name|codeshared_airline_iata|codeshared_airline_icao|codeshared_flight_number|codeshared_flight_iata|codeshared_flight_icao|\n",
      "+-----------+-------------+-----------+------------+--------+--------+------------+--------+---------+-------------+-------------+----------+--------------------+-----------------+------------+--------+--------+------------+--------+---------+-------------+-------------+----------+--------------------+-----------------+------------+------------+------------+-------------+-----------+-----------+-----------------------+-----------------------+-----------------------+------------------------+----------------------+----------------------+\n",
      "|          0|            0|          0|           0|       0|       0|           0|       0|        0|            0|            0|         0|                   0|                0|           0|       0|       0|           0|       0|        0|            0|            0|         0|                   0|                0|           0|           0|           0|            0|          0|          0|                      0|                      0|                      0|                       0|                     0|                     0|\n",
      "+-----------+-------------+-----------+------------+--------+--------+------------+--------+---------+-------------+-------------+----------+--------------------+-----------------+------------+--------+--------+------------+--------+---------+-------------+-------------+----------+--------------------+-----------------+------------+------------+------------+-------------+-----------+-----------+-----------------------+-----------------------+-----------------------+------------------------+----------------------+----------------------+\n",
      "\n"
     ]
    }
   ],
   "source": [
    "df.select([count(when(col(c).isNull(), c)).alias(c) for c in df.columns]).show() "
   ]
  },
  {
   "cell_type": "code",
   "execution_count": 8,
   "metadata": {},
   "outputs": [
    {
     "data": {
      "text/plain": [
       "100"
      ]
     },
     "execution_count": 8,
     "metadata": {},
     "output_type": "execute_result"
    }
   ],
   "source": [
    "df.count()"
   ]
  },
  {
   "cell_type": "code",
   "execution_count": 9,
   "metadata": {},
   "outputs": [
    {
     "name": "stdout",
     "output_type": "stream",
     "text": [
      "+--------------+\n",
      "|min(dep_delay)|\n",
      "+--------------+\n",
      "|             0|\n",
      "+--------------+\n",
      "\n"
     ]
    }
   ],
   "source": [
    "df.select(min(\"dep_delay\")).show()"
   ]
  },
  {
   "cell_type": "code",
   "execution_count": 10,
   "metadata": {},
   "outputs": [
    {
     "name": "stdout",
     "output_type": "stream",
     "text": [
      "+------------+\n",
      "|dep_terminal|\n",
      "+------------+\n",
      "|           3|\n",
      "|           D|\n",
      "|           A|\n",
      "|          T2|\n",
      "|      Uknown|\n",
      "|           1|\n",
      "|           I|\n",
      "|           4|\n",
      "|           2|\n",
      "+------------+\n",
      "\n"
     ]
    }
   ],
   "source": [
    "df.select(\"dep_terminal\").distinct().show()"
   ]
  },
  {
   "cell_type": "code",
   "execution_count": 11,
   "metadata": {},
   "outputs": [
    {
     "data": {
      "text/plain": [
       "StringType()"
      ]
     },
     "execution_count": 11,
     "metadata": {},
     "output_type": "execute_result"
    }
   ],
   "source": [
    "df.schema[\"dep_estimated_runway\"].dataType"
   ]
  },
  {
   "cell_type": "code",
   "execution_count": 12,
   "metadata": {},
   "outputs": [
    {
     "name": "stdout",
     "output_type": "stream",
     "text": [
      "root\n",
      " |-- flight_date: timestamp (nullable = true)\n",
      " |-- flight_status: string (nullable = true)\n",
      " |-- dep_airport: string (nullable = true)\n",
      " |-- dep_timezone: string (nullable = true)\n",
      " |-- dep_iata: string (nullable = true)\n",
      " |-- dep_icao: string (nullable = true)\n",
      " |-- dep_terminal: string (nullable = true)\n",
      " |-- dep_gate: string (nullable = true)\n",
      " |-- dep_delay: integer (nullable = true)\n",
      " |-- dep_scheduled: timestamp (nullable = true)\n",
      " |-- dep_estimated: timestamp (nullable = true)\n",
      " |-- dep_actual: string (nullable = true)\n",
      " |-- dep_estimated_runway: string (nullable = true)\n",
      " |-- dep_actual_runway: string (nullable = true)\n",
      " |-- arr_timezone: string (nullable = true)\n",
      " |-- arr_iata: string (nullable = true)\n",
      " |-- arr_icao: string (nullable = true)\n",
      " |-- arr_terminal: string (nullable = true)\n",
      " |-- arr_gate: string (nullable = true)\n",
      " |-- arr_delay: integer (nullable = true)\n",
      " |-- arr_scheduled: timestamp (nullable = true)\n",
      " |-- arr_estimated: timestamp (nullable = true)\n",
      " |-- arr_actual: string (nullable = true)\n",
      " |-- arr_estimated_runway: string (nullable = true)\n",
      " |-- arr_actual_runway: string (nullable = true)\n",
      " |-- airline_name: string (nullable = true)\n",
      " |-- airline_iata: string (nullable = true)\n",
      " |-- airline_icao: string (nullable = true)\n",
      " |-- flight_number: string (nullable = true)\n",
      " |-- flight_iata: string (nullable = true)\n",
      " |-- flight_icao: string (nullable = true)\n",
      " |-- codeshared_airline_name: string (nullable = true)\n",
      " |-- codeshared_airline_iata: string (nullable = true)\n",
      " |-- codeshared_airline_icao: string (nullable = true)\n",
      " |-- codeshared_flight_number: string (nullable = true)\n",
      " |-- codeshared_flight_iata: string (nullable = true)\n",
      " |-- codeshared_flight_icao: string (nullable = true)\n",
      "\n"
     ]
    }
   ],
   "source": [
    "df.printSchema()"
   ]
  }
 ],
 "metadata": {
  "kernelspec": {
   "display_name": "venv",
   "language": "python",
   "name": "python3"
  },
  "language_info": {
   "codemirror_mode": {
    "name": "ipython",
    "version": 3
   },
   "file_extension": ".py",
   "mimetype": "text/x-python",
   "name": "python",
   "nbconvert_exporter": "python",
   "pygments_lexer": "ipython3",
   "version": "3.10.12"
  }
 },
 "nbformat": 4,
 "nbformat_minor": 2
}
